{
 "cells": [
  {
   "attachments": {},
   "cell_type": "markdown",
   "metadata": {},
   "source": [
    "# netfilx dataset"
   ]
  },
  {
   "cell_type": "code",
   "execution_count": 1,
   "metadata": {},
   "outputs": [],
   "source": [
    "import numpy as np\n",
    "import pandas as pd\n",
    "import seaborn as sns\n",
    "import matplotlib.pyplot as plt"
   ]
  },
  {
   "cell_type": "code",
   "execution_count": 2,
   "metadata": {},
   "outputs": [],
   "source": [
    "file = pd.read_csv(r\"C:\\Users\\ARABHKS26 LENOVO\\Downloads\\8. Netflix Dataset.csv\")"
   ]
  },
  {
   "attachments": {},
   "cell_type": "markdown",
   "metadata": {},
   "source": [
    "Basic Functions"
   ]
  },
  {
   "cell_type": "code",
   "execution_count": null,
   "metadata": {},
   "outputs": [],
   "source": [
    "file.head()\n",
    "file.tail()\n",
    "file.shape\n",
    "file.size\n",
    "file.columns\n",
    "file.dtypes\n",
    "file.info()"
   ]
  },
  {
   "attachments": {},
   "cell_type": "markdown",
   "metadata": {},
   "source": [
    " remove duplicates"
   ]
  },
  {
   "cell_type": "code",
   "execution_count": 3,
   "metadata": {},
   "outputs": [],
   "source": [
    "#file[file.duplicated()]                 # file duplicates\n",
    "file.drop_duplicates(inplace = True)    # delete duplicates permanant"
   ]
  },
  {
   "attachments": {},
   "cell_type": "markdown",
   "metadata": {},
   "source": [
    " show null values in heat map"
   ]
  },
  {
   "cell_type": "code",
   "execution_count": null,
   "metadata": {},
   "outputs": [],
   "source": [
    "file.isnull().sum()         # null vaules\n",
    "sns.heatmap(file.isnull())  # heatmap"
   ]
  },
  {
   "attachments": {},
   "cell_type": "markdown",
   "metadata": {},
   "source": [
    "for 'house of cards , what is show id and director"
   ]
  },
  {
   "cell_type": "code",
   "execution_count": null,
   "metadata": {},
   "outputs": [],
   "source": [
    "file[file['Title'].isin(['House of Cards'])]    # isin function\n",
    "file[file['Title'].str.contains('House of Cards')]    # str.contains function"
   ]
  },
  {
   "attachments": {},
   "cell_type": "markdown",
   "metadata": {},
   "source": [
    " in which year highest number of the TV shows & movies were released and show bar graph"
   ]
  },
  {
   "cell_type": "code",
   "execution_count": 8,
   "metadata": {},
   "outputs": [],
   "source": [
    "file['Date_'] = pd.to_datetime(file['Release_Date'])    #add new date column referance to release date column"
   ]
  },
  {
   "cell_type": "code",
   "execution_count": 9,
   "metadata": {},
   "outputs": [],
   "source": [
    "file['Year'] = file['Date_'].dt.year    #add year column reference to date_ column"
   ]
  },
  {
   "cell_type": "code",
   "execution_count": null,
   "metadata": {},
   "outputs": [],
   "source": [
    "file['Date_'].dt.year.value_counts()    # no. of shows and movies"
   ]
  },
  {
   "cell_type": "code",
   "execution_count": null,
   "metadata": {},
   "outputs": [],
   "source": [
    "file['Date_'].dt.year.value_counts().plot(kind='bar')   # bar graph"
   ]
  },
  {
   "attachments": {},
   "cell_type": "markdown",
   "metadata": {},
   "source": [
    "how many movie and tv shows are in dataset with bar graph"
   ]
  },
  {
   "cell_type": "code",
   "execution_count": null,
   "metadata": {},
   "outputs": [],
   "source": [
    "file.groupby('Category').Category.count()   # groupby and count function"
   ]
  },
  {
   "cell_type": "code",
   "execution_count": null,
   "metadata": {},
   "outputs": [],
   "source": [
    "sns.countplot(file['Category'])     #bar graph"
   ]
  },
  {
   "attachments": {},
   "cell_type": "markdown",
   "metadata": {},
   "source": [
    "show all the movie that were released in year 2000"
   ]
  },
  {
   "cell_type": "code",
   "execution_count": null,
   "metadata": {},
   "outputs": [],
   "source": [
    "file[ (file['Category'] == 'Movie') & (file['Year'] == 2020) ]  #filtering"
   ]
  },
  {
   "attachments": {},
   "cell_type": "markdown",
   "metadata": {},
   "source": [
    "show only the titles of all tv shows that were released in india only"
   ]
  },
  {
   "cell_type": "code",
   "execution_count": null,
   "metadata": {},
   "outputs": [],
   "source": [
    "file[ (file['Category'] == 'TV Show') & (file['Country'] == 'India') ] ['Title']"
   ]
  },
  {
   "attachments": {},
   "cell_type": "markdown",
   "metadata": {},
   "source": [
    "show top 10 directors, who gave the highest number of tv shows and movies of netflix"
   ]
  },
  {
   "cell_type": "code",
   "execution_count": null,
   "metadata": {},
   "outputs": [],
   "source": [
    "file['Director'].value_counts().head(10)"
   ]
  },
  {
   "attachments": {},
   "cell_type": "markdown",
   "metadata": {},
   "source": [
    "show all the records, where 'category is movie and type is comedies' or 'country is united kingdom'"
   ]
  },
  {
   "cell_type": "code",
   "execution_count": null,
   "metadata": {},
   "outputs": [],
   "source": [
    "file[ ((file['Category'] == 'Movie') & (file['Type'] == 'Comedies')) | (file['Country'] == 'United Kingdom') ]"
   ]
  },
  {
   "attachments": {},
   "cell_type": "markdown",
   "metadata": {},
   "source": [
    "in how many movies/shows, tow cruise was cast"
   ]
  },
  {
   "cell_type": "code",
   "execution_count": null,
   "metadata": {},
   "outputs": [],
   "source": [
    "file[ file['Cast'] == 'Tom Cruise' ] ['Category']   # does not apply when multiple elements in column\n",
    "file[ file['Cast'].str.contains('Tom Cruise') ]     # there null values so no result is coming "
   ]
  },
  {
   "cell_type": "code",
   "execution_count": null,
   "metadata": {},
   "outputs": [],
   "source": [
    "file1 = file.dropna()   # delete null value is dataset"
   ]
  },
  {
   "cell_type": "code",
   "execution_count": null,
   "metadata": {},
   "outputs": [],
   "source": [
    "file1[ file1['Cast'].str.contains('Tom Cruise') ]"
   ]
  },
  {
   "attachments": {},
   "cell_type": "markdown",
   "metadata": {},
   "source": [
    "what are the different ratings defined by netfilx"
   ]
  },
  {
   "cell_type": "code",
   "execution_count": null,
   "metadata": {},
   "outputs": [],
   "source": [
    "file['Rating'].unique()"
   ]
  },
  {
   "attachments": {},
   "cell_type": "markdown",
   "metadata": {},
   "source": [
    "how many movies got the tv14 rating in canada"
   ]
  },
  {
   "cell_type": "code",
   "execution_count": null,
   "metadata": {},
   "outputs": [],
   "source": [
    "file[ (file['Category'] == 'Movie') & (file['Rating'] == 'TV-14') & (file['Country'] == 'Canada')].shape"
   ]
  },
  {
   "attachments": {},
   "cell_type": "markdown",
   "metadata": {},
   "source": [
    "how many tv show got the r rating , after year 2018"
   ]
  },
  {
   "cell_type": "code",
   "execution_count": null,
   "metadata": {},
   "outputs": [],
   "source": [
    "file[ (file['Category'] == 'TV Show') & (file['Rating'] == 'R') & (file['Year'] > 2018) ].shape"
   ]
  },
  {
   "attachments": {},
   "cell_type": "markdown",
   "metadata": {},
   "source": [
    "what is the maximum duration of movie on netfilx"
   ]
  },
  {
   "cell_type": "code",
   "execution_count": null,
   "metadata": {},
   "outputs": [],
   "source": [
    "# create new column reference to Duration column\n",
    "file[['Minutes','Unit']] = file['Duration'].str.split(' ',expand=True) "
   ]
  },
  {
   "cell_type": "code",
   "execution_count": null,
   "metadata": {},
   "outputs": [],
   "source": [
    "file['Minutes'].max()"
   ]
  },
  {
   "attachments": {},
   "cell_type": "markdown",
   "metadata": {},
   "source": [
    "which individual country has the highest no. of tv shows"
   ]
  },
  {
   "cell_type": "code",
   "execution_count": 4,
   "metadata": {},
   "outputs": [],
   "source": [
    "file_tvshow = file[file['Category'] == 'TV Show']"
   ]
  },
  {
   "cell_type": "code",
   "execution_count": 5,
   "metadata": {},
   "outputs": [
    {
     "data": {
      "text/plain": [
       "United States                                                705\n",
       "United Kingdom                                               204\n",
       "Japan                                                        157\n",
       "South Korea                                                  147\n",
       "India                                                         71\n",
       "                                                            ... \n",
       "Canada, United States, United Kingdom, France, Luxembourg      1\n",
       "United States, Italy                                           1\n",
       "Chile, Italy                                                   1\n",
       "Canada, United Kingdom                                         1\n",
       "United States, France, South Korea, Indonesia                  1\n",
       "Name: Country, Length: 183, dtype: int64"
      ]
     },
     "execution_count": 5,
     "metadata": {},
     "output_type": "execute_result"
    }
   ],
   "source": [
    "file_tvshow['Country'].value_counts()"
   ]
  },
  {
   "attachments": {},
   "cell_type": "markdown",
   "metadata": {},
   "source": [
    "how can we sort the dataset by year"
   ]
  },
  {
   "cell_type": "code",
   "execution_count": 15,
   "metadata": {},
   "outputs": [
    {
     "data": {
      "text/html": [
       "<div>\n",
       "<style scoped>\n",
       "    .dataframe tbody tr th:only-of-type {\n",
       "        vertical-align: middle;\n",
       "    }\n",
       "\n",
       "    .dataframe tbody tr th {\n",
       "        vertical-align: top;\n",
       "    }\n",
       "\n",
       "    .dataframe thead th {\n",
       "        text-align: right;\n",
       "    }\n",
       "</style>\n",
       "<table border=\"1\" class=\"dataframe\">\n",
       "  <thead>\n",
       "    <tr style=\"text-align: right;\">\n",
       "      <th></th>\n",
       "      <th>Show_Id</th>\n",
       "      <th>Category</th>\n",
       "      <th>Title</th>\n",
       "      <th>Director</th>\n",
       "      <th>Cast</th>\n",
       "      <th>Country</th>\n",
       "      <th>Release_Date</th>\n",
       "      <th>Rating</th>\n",
       "      <th>Duration</th>\n",
       "      <th>Type</th>\n",
       "      <th>Description</th>\n",
       "      <th>Date_</th>\n",
       "      <th>Year</th>\n",
       "    </tr>\n",
       "  </thead>\n",
       "  <tbody>\n",
       "    <tr>\n",
       "      <th>5564</th>\n",
       "      <td>s5564</td>\n",
       "      <td>Movie</td>\n",
       "      <td>Sherlock Holmes</td>\n",
       "      <td>Guy Ritchie</td>\n",
       "      <td>Robert Downey Jr., Jude Law, Rachel McAdams, M...</td>\n",
       "      <td>United States, Germany, United Kingdom, Australia</td>\n",
       "      <td>January 1, 2021</td>\n",
       "      <td>PG-13</td>\n",
       "      <td>128 min</td>\n",
       "      <td>Action &amp; Adventure, Comedies</td>\n",
       "      <td>The game is afoot for an eccentric detective w...</td>\n",
       "      <td>2021-01-01</td>\n",
       "      <td>2021.0</td>\n",
       "    </tr>\n",
       "    <tr>\n",
       "      <th>5919</th>\n",
       "      <td>s5919</td>\n",
       "      <td>Movie</td>\n",
       "      <td>Surf's Up</td>\n",
       "      <td>Ash Brannon, Chris Buck</td>\n",
       "      <td>Shia LaBeouf, Jeff Bridges, Zooey Deschanel, J...</td>\n",
       "      <td>United States</td>\n",
       "      <td>January 1, 2021</td>\n",
       "      <td>PG</td>\n",
       "      <td>86 min</td>\n",
       "      <td>Children &amp; Family Movies, Comedies, Sports Movies</td>\n",
       "      <td>This Oscar-nominated animated comedy goes behi...</td>\n",
       "      <td>2021-01-01</td>\n",
       "      <td>2021.0</td>\n",
       "    </tr>\n",
       "    <tr>\n",
       "      <th>980</th>\n",
       "      <td>s981</td>\n",
       "      <td>TV Show</td>\n",
       "      <td>Bling Empire</td>\n",
       "      <td>NaN</td>\n",
       "      <td>NaN</td>\n",
       "      <td>NaN</td>\n",
       "      <td>January 15, 2021</td>\n",
       "      <td>TV-MA</td>\n",
       "      <td>1 Season</td>\n",
       "      <td>Reality TV</td>\n",
       "      <td>Follow LA's wildly wealthy Asian and Asian Ame...</td>\n",
       "      <td>2021-01-15</td>\n",
       "      <td>2021.0</td>\n",
       "    </tr>\n",
       "    <tr>\n",
       "      <th>5955</th>\n",
       "      <td>s5955</td>\n",
       "      <td>Movie</td>\n",
       "      <td>Taare Zameen Par</td>\n",
       "      <td>Aamir Khan</td>\n",
       "      <td>Aamir Khan, Darsheel Safary, Tanay Chheda, Tis...</td>\n",
       "      <td>India</td>\n",
       "      <td>January 10, 2021</td>\n",
       "      <td>PG</td>\n",
       "      <td>162 min</td>\n",
       "      <td>Dramas, International Movies</td>\n",
       "      <td>When daydreamer Ishaan is sent to boarding sch...</td>\n",
       "      <td>2021-01-10</td>\n",
       "      <td>2021.0</td>\n",
       "    </tr>\n",
       "    <tr>\n",
       "      <th>366</th>\n",
       "      <td>s367</td>\n",
       "      <td>Movie</td>\n",
       "      <td>Al acecho</td>\n",
       "      <td>Francisco D'Eufemia</td>\n",
       "      <td>Rodrigo de la Serna, Belen Blanco, Walter Jako...</td>\n",
       "      <td>NaN</td>\n",
       "      <td>January 12, 2021</td>\n",
       "      <td>TV-MA</td>\n",
       "      <td>81 min</td>\n",
       "      <td>International Movies, Thrillers</td>\n",
       "      <td>Looking for a fresh start, a park ranger gets ...</td>\n",
       "      <td>2021-01-12</td>\n",
       "      <td>2021.0</td>\n",
       "    </tr>\n",
       "    <tr>\n",
       "      <th>...</th>\n",
       "      <td>...</td>\n",
       "      <td>...</td>\n",
       "      <td>...</td>\n",
       "      <td>...</td>\n",
       "      <td>...</td>\n",
       "      <td>...</td>\n",
       "      <td>...</td>\n",
       "      <td>...</td>\n",
       "      <td>...</td>\n",
       "      <td>...</td>\n",
       "      <td>...</td>\n",
       "      <td>...</td>\n",
       "      <td>...</td>\n",
       "    </tr>\n",
       "    <tr>\n",
       "      <th>3374</th>\n",
       "      <td>s3375</td>\n",
       "      <td>TV Show</td>\n",
       "      <td>Kikoriki</td>\n",
       "      <td>NaN</td>\n",
       "      <td>Igor Dmitriev</td>\n",
       "      <td>NaN</td>\n",
       "      <td>NaN</td>\n",
       "      <td>TV-Y</td>\n",
       "      <td>2 Seasons</td>\n",
       "      <td>Kids' TV</td>\n",
       "      <td>A wacky rabbit and his gang of animal pals hav...</td>\n",
       "      <td>NaT</td>\n",
       "      <td>NaN</td>\n",
       "    </tr>\n",
       "    <tr>\n",
       "      <th>3492</th>\n",
       "      <td>s3493</td>\n",
       "      <td>TV Show</td>\n",
       "      <td>La Familia P. Luche</td>\n",
       "      <td>NaN</td>\n",
       "      <td>Eugenio Derbez, Consuelo Duval, Luis Manuel Áv...</td>\n",
       "      <td>United States</td>\n",
       "      <td>NaN</td>\n",
       "      <td>TV-14</td>\n",
       "      <td>3 Seasons</td>\n",
       "      <td>International TV Shows, Spanish-Language TV Sh...</td>\n",
       "      <td>This irreverent sitcom featues Ludovico, Feder...</td>\n",
       "      <td>NaT</td>\n",
       "      <td>NaN</td>\n",
       "    </tr>\n",
       "    <tr>\n",
       "      <th>3946</th>\n",
       "      <td>s3947</td>\n",
       "      <td>TV Show</td>\n",
       "      <td>Maron</td>\n",
       "      <td>NaN</td>\n",
       "      <td>Marc Maron, Judd Hirsch, Josh Brener, Nora Zeh...</td>\n",
       "      <td>United States</td>\n",
       "      <td>NaN</td>\n",
       "      <td>TV-MA</td>\n",
       "      <td>4 Seasons</td>\n",
       "      <td>TV Comedies</td>\n",
       "      <td>Marc Maron stars as Marc Maron, who interviews...</td>\n",
       "      <td>NaT</td>\n",
       "      <td>NaN</td>\n",
       "    </tr>\n",
       "    <tr>\n",
       "      <th>5138</th>\n",
       "      <td>s5138</td>\n",
       "      <td>TV Show</td>\n",
       "      <td>Red vs. Blue</td>\n",
       "      <td>NaN</td>\n",
       "      <td>Burnie Burns, Jason Saldaña, Gustavo Sorola, G...</td>\n",
       "      <td>United States</td>\n",
       "      <td>NaN</td>\n",
       "      <td>NR</td>\n",
       "      <td>13 Seasons</td>\n",
       "      <td>TV Action &amp; Adventure, TV Comedies, TV Sci-Fi ...</td>\n",
       "      <td>This parody of first-person shooter games, mil...</td>\n",
       "      <td>NaT</td>\n",
       "      <td>NaN</td>\n",
       "    </tr>\n",
       "    <tr>\n",
       "      <th>6066</th>\n",
       "      <td>s6066</td>\n",
       "      <td>TV Show</td>\n",
       "      <td>The Adventures of Figaro Pho</td>\n",
       "      <td>NaN</td>\n",
       "      <td>Luke Jurevicius, Craig Behenna, Charlotte Haml...</td>\n",
       "      <td>Australia</td>\n",
       "      <td>NaN</td>\n",
       "      <td>TV-Y7</td>\n",
       "      <td>2 Seasons</td>\n",
       "      <td>Kids' TV, TV Comedies</td>\n",
       "      <td>Imagine your worst fears, then multiply them: ...</td>\n",
       "      <td>NaT</td>\n",
       "      <td>NaN</td>\n",
       "    </tr>\n",
       "  </tbody>\n",
       "</table>\n",
       "<p>7787 rows × 13 columns</p>\n",
       "</div>"
      ],
      "text/plain": [
       "     Show_Id Category                         Title                 Director  \\\n",
       "5564   s5564    Movie               Sherlock Holmes              Guy Ritchie   \n",
       "5919   s5919    Movie                     Surf's Up  Ash Brannon, Chris Buck   \n",
       "980     s981  TV Show                  Bling Empire                      NaN   \n",
       "5955   s5955    Movie              Taare Zameen Par               Aamir Khan   \n",
       "366     s367    Movie                     Al acecho      Francisco D'Eufemia   \n",
       "...      ...      ...                           ...                      ...   \n",
       "3374   s3375  TV Show                      Kikoriki                      NaN   \n",
       "3492   s3493  TV Show           La Familia P. Luche                      NaN   \n",
       "3946   s3947  TV Show                         Maron                      NaN   \n",
       "5138   s5138  TV Show                  Red vs. Blue                      NaN   \n",
       "6066   s6066  TV Show  The Adventures of Figaro Pho                      NaN   \n",
       "\n",
       "                                                   Cast  \\\n",
       "5564  Robert Downey Jr., Jude Law, Rachel McAdams, M...   \n",
       "5919  Shia LaBeouf, Jeff Bridges, Zooey Deschanel, J...   \n",
       "980                                                 NaN   \n",
       "5955  Aamir Khan, Darsheel Safary, Tanay Chheda, Tis...   \n",
       "366   Rodrigo de la Serna, Belen Blanco, Walter Jako...   \n",
       "...                                                 ...   \n",
       "3374                                      Igor Dmitriev   \n",
       "3492  Eugenio Derbez, Consuelo Duval, Luis Manuel Áv...   \n",
       "3946  Marc Maron, Judd Hirsch, Josh Brener, Nora Zeh...   \n",
       "5138  Burnie Burns, Jason Saldaña, Gustavo Sorola, G...   \n",
       "6066  Luke Jurevicius, Craig Behenna, Charlotte Haml...   \n",
       "\n",
       "                                                Country      Release_Date  \\\n",
       "5564  United States, Germany, United Kingdom, Australia   January 1, 2021   \n",
       "5919                                      United States   January 1, 2021   \n",
       "980                                                 NaN  January 15, 2021   \n",
       "5955                                              India  January 10, 2021   \n",
       "366                                                 NaN  January 12, 2021   \n",
       "...                                                 ...               ...   \n",
       "3374                                                NaN               NaN   \n",
       "3492                                      United States               NaN   \n",
       "3946                                      United States               NaN   \n",
       "5138                                      United States               NaN   \n",
       "6066                                          Australia               NaN   \n",
       "\n",
       "     Rating    Duration                                               Type  \\\n",
       "5564  PG-13     128 min                       Action & Adventure, Comedies   \n",
       "5919     PG      86 min  Children & Family Movies, Comedies, Sports Movies   \n",
       "980   TV-MA    1 Season                                         Reality TV   \n",
       "5955     PG     162 min                       Dramas, International Movies   \n",
       "366   TV-MA      81 min                    International Movies, Thrillers   \n",
       "...     ...         ...                                                ...   \n",
       "3374   TV-Y   2 Seasons                                           Kids' TV   \n",
       "3492  TV-14   3 Seasons  International TV Shows, Spanish-Language TV Sh...   \n",
       "3946  TV-MA   4 Seasons                                        TV Comedies   \n",
       "5138     NR  13 Seasons  TV Action & Adventure, TV Comedies, TV Sci-Fi ...   \n",
       "6066  TV-Y7   2 Seasons                              Kids' TV, TV Comedies   \n",
       "\n",
       "                                            Description      Date_    Year  \n",
       "5564  The game is afoot for an eccentric detective w... 2021-01-01  2021.0  \n",
       "5919  This Oscar-nominated animated comedy goes behi... 2021-01-01  2021.0  \n",
       "980   Follow LA's wildly wealthy Asian and Asian Ame... 2021-01-15  2021.0  \n",
       "5955  When daydreamer Ishaan is sent to boarding sch... 2021-01-10  2021.0  \n",
       "366   Looking for a fresh start, a park ranger gets ... 2021-01-12  2021.0  \n",
       "...                                                 ...        ...     ...  \n",
       "3374  A wacky rabbit and his gang of animal pals hav...        NaT     NaN  \n",
       "3492  This irreverent sitcom featues Ludovico, Feder...        NaT     NaN  \n",
       "3946  Marc Maron stars as Marc Maron, who interviews...        NaT     NaN  \n",
       "5138  This parody of first-person shooter games, mil...        NaT     NaN  \n",
       "6066  Imagine your worst fears, then multiply them: ...        NaT     NaN  \n",
       "\n",
       "[7787 rows x 13 columns]"
      ]
     },
     "execution_count": 15,
     "metadata": {},
     "output_type": "execute_result"
    }
   ],
   "source": [
    "file.sort_values(by='Year',ascending= False)"
   ]
  },
  {
   "attachments": {},
   "cell_type": "markdown",
   "metadata": {},
   "source": [
    "find where category is 'movie' and type is 'dramas'"
   ]
  },
  {
   "cell_type": "code",
   "execution_count": 16,
   "metadata": {},
   "outputs": [
    {
     "data": {
      "text/html": [
       "<div>\n",
       "<style scoped>\n",
       "    .dataframe tbody tr th:only-of-type {\n",
       "        vertical-align: middle;\n",
       "    }\n",
       "\n",
       "    .dataframe tbody tr th {\n",
       "        vertical-align: top;\n",
       "    }\n",
       "\n",
       "    .dataframe thead th {\n",
       "        text-align: right;\n",
       "    }\n",
       "</style>\n",
       "<table border=\"1\" class=\"dataframe\">\n",
       "  <thead>\n",
       "    <tr style=\"text-align: right;\">\n",
       "      <th></th>\n",
       "      <th>Show_Id</th>\n",
       "      <th>Category</th>\n",
       "      <th>Title</th>\n",
       "      <th>Director</th>\n",
       "      <th>Cast</th>\n",
       "      <th>Country</th>\n",
       "      <th>Release_Date</th>\n",
       "      <th>Rating</th>\n",
       "      <th>Duration</th>\n",
       "      <th>Type</th>\n",
       "      <th>Description</th>\n",
       "      <th>Date_</th>\n",
       "      <th>Year</th>\n",
       "    </tr>\n",
       "  </thead>\n",
       "  <tbody>\n",
       "  </tbody>\n",
       "</table>\n",
       "</div>"
      ],
      "text/plain": [
       "Empty DataFrame\n",
       "Columns: [Show_Id, Category, Title, Director, Cast, Country, Release_Date, Rating, Duration, Type, Description, Date_, Year]\n",
       "Index: []"
      ]
     },
     "execution_count": 16,
     "metadata": {},
     "output_type": "execute_result"
    }
   ],
   "source": [
    "file[ (file['Category'] == 'Movie') & (file['Type'] == 'Dramas') ]"
   ]
  },
  {
   "attachments": {},
   "cell_type": "markdown",
   "metadata": {},
   "source": [
    "find where category is 'tvshows' and type is 'kids tv'"
   ]
  },
  {
   "cell_type": "code",
   "execution_count": 17,
   "metadata": {},
   "outputs": [
    {
     "data": {
      "text/html": [
       "<div>\n",
       "<style scoped>\n",
       "    .dataframe tbody tr th:only-of-type {\n",
       "        vertical-align: middle;\n",
       "    }\n",
       "\n",
       "    .dataframe tbody tr th {\n",
       "        vertical-align: top;\n",
       "    }\n",
       "\n",
       "    .dataframe thead th {\n",
       "        text-align: right;\n",
       "    }\n",
       "</style>\n",
       "<table border=\"1\" class=\"dataframe\">\n",
       "  <thead>\n",
       "    <tr style=\"text-align: right;\">\n",
       "      <th></th>\n",
       "      <th>Show_Id</th>\n",
       "      <th>Category</th>\n",
       "      <th>Title</th>\n",
       "      <th>Director</th>\n",
       "      <th>Cast</th>\n",
       "      <th>Country</th>\n",
       "      <th>Release_Date</th>\n",
       "      <th>Rating</th>\n",
       "      <th>Duration</th>\n",
       "      <th>Type</th>\n",
       "      <th>Description</th>\n",
       "      <th>Date_</th>\n",
       "      <th>Year</th>\n",
       "    </tr>\n",
       "  </thead>\n",
       "  <tbody>\n",
       "    <tr>\n",
       "      <th>111</th>\n",
       "      <td>s112</td>\n",
       "      <td>TV Show</td>\n",
       "      <td>44 Cats</td>\n",
       "      <td>NaN</td>\n",
       "      <td>Sarah Natochenny, Suzy Myers, Simona Berman, E...</td>\n",
       "      <td>Italy</td>\n",
       "      <td>October 1, 2020</td>\n",
       "      <td>TV-Y7</td>\n",
       "      <td>2 Seasons</td>\n",
       "      <td>Kids' TV</td>\n",
       "      <td>Paw-esome tales abound when singing furry frie...</td>\n",
       "      <td>2020-10-01</td>\n",
       "      <td>2020.0</td>\n",
       "    </tr>\n",
       "    <tr>\n",
       "      <th>276</th>\n",
       "      <td>s277</td>\n",
       "      <td>TV Show</td>\n",
       "      <td>Abby Hatcher</td>\n",
       "      <td>Kyran Kelly</td>\n",
       "      <td>Macy Drouin, Wyatt White, Paul Sun-Hyung Lee, ...</td>\n",
       "      <td>United States, Canada</td>\n",
       "      <td>July 1, 2020</td>\n",
       "      <td>TV-Y</td>\n",
       "      <td>1 Season</td>\n",
       "      <td>Kids' TV</td>\n",
       "      <td>A big-hearted girl helps her Fuzzly friends wh...</td>\n",
       "      <td>2020-07-01</td>\n",
       "      <td>2020.0</td>\n",
       "    </tr>\n",
       "    <tr>\n",
       "      <th>434</th>\n",
       "      <td>s435</td>\n",
       "      <td>TV Show</td>\n",
       "      <td>Alphablocks</td>\n",
       "      <td>NaN</td>\n",
       "      <td>Teresa Gallagher, David Holt, Lizzie Waterworth</td>\n",
       "      <td>United Kingdom</td>\n",
       "      <td>May 25, 2020</td>\n",
       "      <td>TV-Y</td>\n",
       "      <td>5 Seasons</td>\n",
       "      <td>Kids' TV</td>\n",
       "      <td>The letters of the alphabet come to life in Al...</td>\n",
       "      <td>2020-05-25</td>\n",
       "      <td>2020.0</td>\n",
       "    </tr>\n",
       "    <tr>\n",
       "      <th>598</th>\n",
       "      <td>s599</td>\n",
       "      <td>TV Show</td>\n",
       "      <td>Ask the StoryBots</td>\n",
       "      <td>NaN</td>\n",
       "      <td>Judy Greer, Erin Fitzgerald, Fred Tatasciore, ...</td>\n",
       "      <td>United States</td>\n",
       "      <td>August 2, 2019</td>\n",
       "      <td>TV-Y</td>\n",
       "      <td>3 Seasons</td>\n",
       "      <td>Kids' TV</td>\n",
       "      <td>Five curious little creatures track down the a...</td>\n",
       "      <td>2019-08-02</td>\n",
       "      <td>2019.0</td>\n",
       "    </tr>\n",
       "    <tr>\n",
       "      <th>706</th>\n",
       "      <td>s707</td>\n",
       "      <td>TV Show</td>\n",
       "      <td>Bal Ganesh</td>\n",
       "      <td>Vijay S. Bhanushali</td>\n",
       "      <td>Meghna Erande Joshi, Parminder Ghumman</td>\n",
       "      <td>NaN</td>\n",
       "      <td>March 31, 2020</td>\n",
       "      <td>TV-Y7</td>\n",
       "      <td>1 Season</td>\n",
       "      <td>Kids' TV</td>\n",
       "      <td>Watch Ganesh destroy demons, disarm invaders a...</td>\n",
       "      <td>2020-03-31</td>\n",
       "      <td>2020.0</td>\n",
       "    </tr>\n",
       "    <tr>\n",
       "      <th>...</th>\n",
       "      <td>...</td>\n",
       "      <td>...</td>\n",
       "      <td>...</td>\n",
       "      <td>...</td>\n",
       "      <td>...</td>\n",
       "      <td>...</td>\n",
       "      <td>...</td>\n",
       "      <td>...</td>\n",
       "      <td>...</td>\n",
       "      <td>...</td>\n",
       "      <td>...</td>\n",
       "      <td>...</td>\n",
       "      <td>...</td>\n",
       "    </tr>\n",
       "    <tr>\n",
       "      <th>7668</th>\n",
       "      <td>s7667</td>\n",
       "      <td>TV Show</td>\n",
       "      <td>World of Winx</td>\n",
       "      <td>Iginio Straffi</td>\n",
       "      <td>Haven Paschall, Alysha Deslorieux, Jessica Paq...</td>\n",
       "      <td>Italy, United States</td>\n",
       "      <td>June 16, 2017</td>\n",
       "      <td>TV-Y7</td>\n",
       "      <td>2 Seasons</td>\n",
       "      <td>Kids' TV</td>\n",
       "      <td>The reality show \"WOW!\" engages the Winx in th...</td>\n",
       "      <td>2017-06-16</td>\n",
       "      <td>2017.0</td>\n",
       "    </tr>\n",
       "    <tr>\n",
       "      <th>7717</th>\n",
       "      <td>s7716</td>\n",
       "      <td>TV Show</td>\n",
       "      <td>Yoko</td>\n",
       "      <td>NaN</td>\n",
       "      <td>Eileen Stevens, Alyson Leigh Rosenfeld, Sarah ...</td>\n",
       "      <td>NaN</td>\n",
       "      <td>June 23, 2018</td>\n",
       "      <td>TV-Y</td>\n",
       "      <td>1 Season</td>\n",
       "      <td>Kids' TV</td>\n",
       "      <td>Friends Mai, Oto and Vik's games at the park b...</td>\n",
       "      <td>2018-06-23</td>\n",
       "      <td>2018.0</td>\n",
       "    </tr>\n",
       "    <tr>\n",
       "      <th>7719</th>\n",
       "      <td>s7718</td>\n",
       "      <td>TV Show</td>\n",
       "      <td>YOM</td>\n",
       "      <td>NaN</td>\n",
       "      <td>Sairaj, Devyani Dagaonkar, Ketan Singh, Mayur ...</td>\n",
       "      <td>NaN</td>\n",
       "      <td>June 7, 2018</td>\n",
       "      <td>TV-Y7</td>\n",
       "      <td>1 Season</td>\n",
       "      <td>Kids' TV</td>\n",
       "      <td>With the mind of a human being, and the body o...</td>\n",
       "      <td>2018-06-07</td>\n",
       "      <td>2018.0</td>\n",
       "    </tr>\n",
       "    <tr>\n",
       "      <th>7758</th>\n",
       "      <td>s7757</td>\n",
       "      <td>TV Show</td>\n",
       "      <td>Z4</td>\n",
       "      <td>NaN</td>\n",
       "      <td>Apollo Costa, Gabriel Santana, Matheus Lustosa...</td>\n",
       "      <td>Brazil</td>\n",
       "      <td>February 22, 2019</td>\n",
       "      <td>TV-PG</td>\n",
       "      <td>2 Seasons</td>\n",
       "      <td>Kids' TV</td>\n",
       "      <td>Fading music biz veteran Zé realizes he has ju...</td>\n",
       "      <td>2019-02-22</td>\n",
       "      <td>2019.0</td>\n",
       "    </tr>\n",
       "    <tr>\n",
       "      <th>7761</th>\n",
       "      <td>s7760</td>\n",
       "      <td>TV Show</td>\n",
       "      <td>Zak Storm</td>\n",
       "      <td>NaN</td>\n",
       "      <td>Michael Johnston, Jessica Gee-George, Christin...</td>\n",
       "      <td>United States, France, South Korea, Indonesia</td>\n",
       "      <td>September 13, 2018</td>\n",
       "      <td>TV-Y7</td>\n",
       "      <td>3 Seasons</td>\n",
       "      <td>Kids' TV</td>\n",
       "      <td>Teen surfer Zak Storm is mysteriously transpor...</td>\n",
       "      <td>2018-09-13</td>\n",
       "      <td>2018.0</td>\n",
       "    </tr>\n",
       "  </tbody>\n",
       "</table>\n",
       "<p>205 rows × 13 columns</p>\n",
       "</div>"
      ],
      "text/plain": [
       "     Show_Id Category              Title             Director  \\\n",
       "111     s112  TV Show            44 Cats                  NaN   \n",
       "276     s277  TV Show       Abby Hatcher          Kyran Kelly   \n",
       "434     s435  TV Show        Alphablocks                  NaN   \n",
       "598     s599  TV Show  Ask the StoryBots                  NaN   \n",
       "706     s707  TV Show         Bal Ganesh  Vijay S. Bhanushali   \n",
       "...      ...      ...                ...                  ...   \n",
       "7668   s7667  TV Show      World of Winx       Iginio Straffi   \n",
       "7717   s7716  TV Show               Yoko                  NaN   \n",
       "7719   s7718  TV Show                YOM                  NaN   \n",
       "7758   s7757  TV Show                 Z4                  NaN   \n",
       "7761   s7760  TV Show          Zak Storm                  NaN   \n",
       "\n",
       "                                                   Cast  \\\n",
       "111   Sarah Natochenny, Suzy Myers, Simona Berman, E...   \n",
       "276   Macy Drouin, Wyatt White, Paul Sun-Hyung Lee, ...   \n",
       "434     Teresa Gallagher, David Holt, Lizzie Waterworth   \n",
       "598   Judy Greer, Erin Fitzgerald, Fred Tatasciore, ...   \n",
       "706              Meghna Erande Joshi, Parminder Ghumman   \n",
       "...                                                 ...   \n",
       "7668  Haven Paschall, Alysha Deslorieux, Jessica Paq...   \n",
       "7717  Eileen Stevens, Alyson Leigh Rosenfeld, Sarah ...   \n",
       "7719  Sairaj, Devyani Dagaonkar, Ketan Singh, Mayur ...   \n",
       "7758  Apollo Costa, Gabriel Santana, Matheus Lustosa...   \n",
       "7761  Michael Johnston, Jessica Gee-George, Christin...   \n",
       "\n",
       "                                            Country        Release_Date  \\\n",
       "111                                           Italy     October 1, 2020   \n",
       "276                           United States, Canada        July 1, 2020   \n",
       "434                                  United Kingdom        May 25, 2020   \n",
       "598                                   United States      August 2, 2019   \n",
       "706                                             NaN      March 31, 2020   \n",
       "...                                             ...                 ...   \n",
       "7668                           Italy, United States       June 16, 2017   \n",
       "7717                                            NaN       June 23, 2018   \n",
       "7719                                            NaN        June 7, 2018   \n",
       "7758                                         Brazil   February 22, 2019   \n",
       "7761  United States, France, South Korea, Indonesia  September 13, 2018   \n",
       "\n",
       "     Rating   Duration      Type  \\\n",
       "111   TV-Y7  2 Seasons  Kids' TV   \n",
       "276    TV-Y   1 Season  Kids' TV   \n",
       "434    TV-Y  5 Seasons  Kids' TV   \n",
       "598    TV-Y  3 Seasons  Kids' TV   \n",
       "706   TV-Y7   1 Season  Kids' TV   \n",
       "...     ...        ...       ...   \n",
       "7668  TV-Y7  2 Seasons  Kids' TV   \n",
       "7717   TV-Y   1 Season  Kids' TV   \n",
       "7719  TV-Y7   1 Season  Kids' TV   \n",
       "7758  TV-PG  2 Seasons  Kids' TV   \n",
       "7761  TV-Y7  3 Seasons  Kids' TV   \n",
       "\n",
       "                                            Description      Date_    Year  \n",
       "111   Paw-esome tales abound when singing furry frie... 2020-10-01  2020.0  \n",
       "276   A big-hearted girl helps her Fuzzly friends wh... 2020-07-01  2020.0  \n",
       "434   The letters of the alphabet come to life in Al... 2020-05-25  2020.0  \n",
       "598   Five curious little creatures track down the a... 2019-08-02  2019.0  \n",
       "706   Watch Ganesh destroy demons, disarm invaders a... 2020-03-31  2020.0  \n",
       "...                                                 ...        ...     ...  \n",
       "7668  The reality show \"WOW!\" engages the Winx in th... 2017-06-16  2017.0  \n",
       "7717  Friends Mai, Oto and Vik's games at the park b... 2018-06-23  2018.0  \n",
       "7719  With the mind of a human being, and the body o... 2018-06-07  2018.0  \n",
       "7758  Fading music biz veteran Zé realizes he has ju... 2019-02-22  2019.0  \n",
       "7761  Teen surfer Zak Storm is mysteriously transpor... 2018-09-13  2018.0  \n",
       "\n",
       "[205 rows x 13 columns]"
      ]
     },
     "execution_count": 17,
     "metadata": {},
     "output_type": "execute_result"
    }
   ],
   "source": [
    "file[ (file['Category'] == 'TV Show') & (file['Type'] == \"Kids' TV\") ]"
   ]
  }
 ],
 "metadata": {
  "kernelspec": {
   "display_name": "Python 3",
   "language": "python",
   "name": "python3"
  },
  "language_info": {
   "codemirror_mode": {
    "name": "ipython",
    "version": 3
   },
   "file_extension": ".py",
   "mimetype": "text/x-python",
   "name": "python",
   "nbconvert_exporter": "python",
   "pygments_lexer": "ipython3",
   "version": "3.11.0"
  },
  "orig_nbformat": 4
 },
 "nbformat": 4,
 "nbformat_minor": 2
}
